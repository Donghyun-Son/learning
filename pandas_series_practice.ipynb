{
 "cells": [
  {
   "cell_type": "code",
   "execution_count": 1,
   "metadata": {},
   "outputs": [],
   "source": [
    "import pandas as pd"
   ]
  },
  {
   "cell_type": "code",
   "execution_count": 6,
   "metadata": {
    "scrolled": true
   },
   "outputs": [
    {
     "data": {
      "text/plain": [
       "[0    a\n",
       " 1    b\n",
       " 2    c\n",
       " 3    d\n",
       " 4    e\n",
       " dtype: object,\n",
       " 0    10\n",
       " 1    12\n",
       " 2    15\n",
       " 3    21\n",
       " 4    30\n",
       " dtype: int64]"
      ]
     },
     "execution_count": 6,
     "metadata": {},
     "output_type": "execute_result"
    }
   ],
   "source": [
    "#list와 tuple 데이터로 Series형 생성\n",
    "date = [10, 12, 15, 21, 30]\n",
    "name = ('a', 'b', 'c', 'd', 'e')\n",
    "\n",
    "date = pd.Series(date)\n",
    "name = pd.Series(name)\n",
    "\n",
    "[name, date]"
   ]
  },
  {
   "cell_type": "code",
   "execution_count": 32,
   "metadata": {},
   "outputs": [
    {
     "data": {
      "text/plain": [
       "a    3\n",
       "c    1\n",
       "d    2\n",
       "dtype: object"
      ]
     },
     "execution_count": 32,
     "metadata": {},
     "output_type": "execute_result"
    }
   ],
   "source": [
    "#딕셔너리로 Series형 생성\n",
    "\n",
    "dic = {'a':'3', 'c':'1', 'd':'2'}\n",
    "dic = pd.Series(dic)\n",
    "dic"
   ]
  },
  {
   "cell_type": "code",
   "execution_count": 35,
   "metadata": {},
   "outputs": [
    {
     "data": {
      "text/plain": [
       "a      3\n",
       "b      2\n",
       "c      1\n",
       "c      1\n",
       "d    NaN\n",
       "dtype: object"
      ]
     },
     "execution_count": 35,
     "metadata": {},
     "output_type": "execute_result"
    }
   ],
   "source": [
    "#딕셔너리 Series화 할 때, index 설정해주기\n",
    "dic = {'a':'3', 'c':'1', 'b':'2'}\n",
    "dic = pd.Series(dic, index = ['a','b','c', 'c', 'd'])\n",
    "dic"
   ]
  },
  {
   "cell_type": "code",
   "execution_count": 36,
   "metadata": {},
   "outputs": [
    {
     "data": {
      "text/plain": [
       "1    10\n",
       "3    10\n",
       "2    10\n",
       "dtype: int64"
      ]
     },
     "execution_count": 36,
     "metadata": {},
     "output_type": "execute_result"
    }
   ],
   "source": [
    "#스칼라값으로 Series 생성\n",
    "\n",
    "s = pd.Series(10, index = ['1','3','2'])\n",
    "s"
   ]
  },
  {
   "cell_type": "code",
   "execution_count": 10,
   "metadata": {},
   "outputs": [
    {
     "data": {
      "text/plain": [
       "1    b\n",
       "3    d\n",
       "dtype: object"
      ]
     },
     "execution_count": 10,
     "metadata": {},
     "output_type": "execute_result"
    }
   ],
   "source": [
    "#Series형 데이터의 조회 (특정 여러 행 조회)\n",
    "name[[1,3]]"
   ]
  },
  {
   "cell_type": "code",
   "execution_count": 11,
   "metadata": {},
   "outputs": [
    {
     "data": {
      "text/plain": [
       "0    10\n",
       "1    12\n",
       "2    15\n",
       "dtype: int64"
      ]
     },
     "execution_count": 11,
     "metadata": {},
     "output_type": "execute_result"
    }
   ],
   "source": [
    "#Series형 데이터의 조회 (범위 행 조회)\n",
    "date[0:3]"
   ]
  },
  {
   "cell_type": "code",
   "execution_count": 12,
   "metadata": {},
   "outputs": [
    {
     "data": {
      "text/plain": [
       "30"
      ]
     },
     "execution_count": 12,
     "metadata": {},
     "output_type": "execute_result"
    }
   ],
   "source": [
    "#Series형 데이터의 조회 (행 하나만 조회)\n",
    "date[4]"
   ]
  },
  {
   "cell_type": "code",
   "execution_count": 14,
   "metadata": {},
   "outputs": [
    {
     "name": "stdout",
     "output_type": "stream",
     "text": [
      "[10 12 15 21 30]\n"
     ]
    },
    {
     "data": {
      "text/plain": [
       "numpy.ndarray"
      ]
     },
     "execution_count": 14,
     "metadata": {},
     "output_type": "execute_result"
    }
   ],
   "source": [
    "#Series형 데이터의 값만 떼어내기\n",
    "\n",
    "print(date.values)\n",
    "type(date.values)"
   ]
  },
  {
   "cell_type": "code",
   "execution_count": 18,
   "metadata": {
    "scrolled": true
   },
   "outputs": [
    {
     "name": "stdout",
     "output_type": "stream",
     "text": [
      "[10, 12, 15, 21, 30]\n",
      "<class 'list'>\n"
     ]
    }
   ],
   "source": [
    "#Series형에서 추출한 값 list화 (ndarray -> list)\n",
    "\n",
    "datev = list(date.values)\n",
    "print(datev)\n",
    "print(type(datev))"
   ]
  },
  {
   "cell_type": "code",
   "execution_count": 23,
   "metadata": {},
   "outputs": [
    {
     "data": {
      "text/plain": [
       "RangeIndex(start=0, stop=5, step=1)"
      ]
     },
     "execution_count": 23,
     "metadata": {},
     "output_type": "execute_result"
    }
   ],
   "source": [
    "#Series형에서 index 범위 조회\n",
    "\n",
    "date.index"
   ]
  },
  {
   "cell_type": "code",
   "execution_count": 24,
   "metadata": {},
   "outputs": [
    {
     "data": {
      "text/plain": [
       "pandas.core.indexes.range.RangeIndex"
      ]
     },
     "execution_count": 24,
     "metadata": {},
     "output_type": "execute_result"
    }
   ],
   "source": [
    "#Series형에서 index의 타입은?\n",
    "\n",
    "type(date.index)"
   ]
  },
  {
   "cell_type": "code",
   "execution_count": 39,
   "metadata": {},
   "outputs": [
    {
     "data": {
      "text/plain": [
       "2    15\n",
       "3    21\n",
       "4    30\n",
       "dtype: int64"
      ]
     },
     "execution_count": 39,
     "metadata": {},
     "output_type": "execute_result"
    }
   ],
   "source": [
    "#Sereis형에서 특정 조건 조회\n",
    "#데이터 프레임과 비슷하다. 유의할 점은 Series형은 데이터명과 칼럼명이 동일하다는 것\n",
    "\n",
    "date[date>12]"
   ]
  },
  {
   "cell_type": "code",
   "execution_count": 40,
   "metadata": {},
   "outputs": [
    {
     "data": {
      "text/plain": [
       "2    c\n",
       "dtype: object"
      ]
     },
     "execution_count": 40,
     "metadata": {},
     "output_type": "execute_result"
    }
   ],
   "source": [
    "#Sereis형에서 특정 조건 조회\n",
    "#데이터 프레임과 비슷하다. 유의할 점은 Series형은 데이터명과 칼럼명이 동일하다는 것\n",
    "\n",
    "name[name=='c']"
   ]
  },
  {
   "cell_type": "code",
   "execution_count": 42,
   "metadata": {
    "scrolled": true
   },
   "outputs": [
    {
     "data": {
      "text/plain": [
       "1    12\n",
       "2    15\n",
       "3    21\n",
       "dtype: int64"
      ]
     },
     "execution_count": 42,
     "metadata": {},
     "output_type": "execute_result"
    }
   ],
   "source": [
    "#Series형에서 논리연산 사용해 특정 조건 조회\n",
    "#And는 두 조건을 각각 대괄호를 써서 따로 입력\n",
    "\n",
    "date[date>10][date<=21]"
   ]
  },
  {
   "cell_type": "code",
   "execution_count": 43,
   "metadata": {},
   "outputs": [
    {
     "data": {
      "text/plain": [
       "0    10\n",
       "4    30\n",
       "dtype: int64"
      ]
     },
     "execution_count": 43,
     "metadata": {},
     "output_type": "execute_result"
    }
   ],
   "source": [
    "#Series형에서 논리연산 사용해 특정 조건 조회\n",
    "#Or은 대괄호 안에 소괄호로 두 조건을 각각 따로 묶고, 두 조건 사이에 | 넣기\n",
    "\n",
    "date[(date<11)|(date>21)]"
   ]
  },
  {
   "cell_type": "code",
   "execution_count": 51,
   "metadata": {},
   "outputs": [
    {
     "data": {
      "text/plain": [
       "0    1.0\n",
       "1    1.0\n",
       "2    1.0\n",
       "3    1.0\n",
       "4    1.0\n",
       "dtype: float64"
      ]
     },
     "execution_count": 51,
     "metadata": {},
     "output_type": "execute_result"
    }
   ],
   "source": [
    "#Series형 사칙연산\n",
    "\n",
    "date+date\n",
    "date-date\n",
    "date*date\n",
    "date/date"
   ]
  },
  {
   "cell_type": "code",
   "execution_count": 56,
   "metadata": {},
   "outputs": [
    {
     "data": {
      "text/plain": [
       "금    23.0\n",
       "목     NaN\n",
       "수     NaN\n",
       "월     NaN\n",
       "일     NaN\n",
       "토     NaN\n",
       "화     NaN\n",
       "dtype: float64"
      ]
     },
     "execution_count": 56,
     "metadata": {},
     "output_type": "execute_result"
    }
   ],
   "source": [
    "#Series형 사칙연산(index 지정)\n",
    "day = pd.Series([9,10,11,12,13], index = ['월','화','수','목','금'])\n",
    "day2 = pd.Series(10, index = ['금','토','일'])\n",
    "\n",
    "day+day2"
   ]
  }
 ],
 "metadata": {
  "kernelspec": {
   "display_name": "Python 3",
   "language": "python",
   "name": "python3"
  },
  "language_info": {
   "codemirror_mode": {
    "name": "ipython",
    "version": 3
   },
   "file_extension": ".py",
   "mimetype": "text/x-python",
   "name": "python",
   "nbconvert_exporter": "python",
   "pygments_lexer": "ipython3",
   "version": "3.8.5"
  }
 },
 "nbformat": 4,
 "nbformat_minor": 4
}
