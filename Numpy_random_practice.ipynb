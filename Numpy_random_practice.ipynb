{
 "cells": [
  {
   "cell_type": "markdown",
   "metadata": {},
   "source": [
    "# Numpy Tutorial\n",
    "#  \n",
    "## Numpy 패키지의 난수생성에 대해 알아보자"
   ]
  },
  {
   "cell_type": "markdown",
   "metadata": {},
   "source": [
    "Numpy 패키지는 선형대수 계산뿐 아니라 무작위난수생성 기능도 지원한다."
   ]
  },
  {
   "cell_type": "code",
   "execution_count": 1,
   "metadata": {},
   "outputs": [],
   "source": [
    "#numpy.random 모듈\n",
    "\n",
    "import numpy as np"
   ]
  },
  {
   "cell_type": "code",
   "execution_count": 11,
   "metadata": {},
   "outputs": [
    {
     "data": {
      "text/plain": [
       "array([-1.74976547,  0.3426804 ,  1.1530358 , -0.25243604,  0.98132079])"
      ]
     },
     "execution_count": 11,
     "metadata": {},
     "output_type": "execute_result"
    }
   ],
   "source": [
    "#seed 생성\n",
    "\n",
    "np.random.seed(seed = 100)\n",
    "np.random.normal(size = 5)"
   ]
  },
  {
   "cell_type": "code",
   "execution_count": 13,
   "metadata": {},
   "outputs": [
    {
     "data": {
      "text/plain": [
       "array([-0.45802699,  0.43516349, -0.58359505,  0.81684707,  0.67272081])"
      ]
     },
     "execution_count": 13,
     "metadata": {},
     "output_type": "execute_result"
    }
   ],
   "source": [
    "#without seed\n",
    "\n",
    "np.random.normal(size = 5)"
   ]
  },
  {
   "cell_type": "code",
   "execution_count": 14,
   "metadata": {},
   "outputs": [
    {
     "data": {
      "text/plain": [
       "array([[-0.10441114, -0.53128038,  1.02973269],\n",
       "       [-0.43813562, -1.11831825,  1.61898166]])"
      ]
     },
     "execution_count": 14,
     "metadata": {},
     "output_type": "execute_result"
    }
   ],
   "source": [
    "#size 옵션을 사용해 난수를 array클래스로 생성 가능\n",
    "\n",
    "np.random.normal(size = (2,3))"
   ]
  },
  {
   "cell_type": "code",
   "execution_count": 15,
   "metadata": {},
   "outputs": [
    {
     "data": {
      "text/plain": [
       "array([[[ 1.54160517, -0.25187914, -0.84243574,  0.18451869],\n",
       "        [ 0.9370822 ,  0.73100034,  1.36155613, -0.32623806],\n",
       "        [ 0.05567601,  0.22239961, -1.443217  , -0.75635231]],\n",
       "\n",
       "       [[ 0.81645401,  0.75044476, -0.45594693,  1.18962227],\n",
       "        [-1.69061683, -1.35639905, -1.23243451, -0.54443916],\n",
       "        [-0.66817174,  0.00731456, -0.61293874,  1.29974807]]])"
      ]
     },
     "execution_count": 15,
     "metadata": {},
     "output_type": "execute_result"
    }
   ],
   "source": [
    "np.random.normal(size = (2,3,4))"
   ]
  },
  {
   "cell_type": "code",
   "execution_count": 21,
   "metadata": {},
   "outputs": [
    {
     "data": {
      "text/plain": [
       "array([0, 1, 1, 1, 1, 0, 0, 1, 0, 0])"
      ]
     },
     "execution_count": 21,
     "metadata": {},
     "output_type": "execute_result"
    }
   ],
   "source": [
    "#이산형 확률분포에서 난수생성하기\n",
    "#이항분포 np.random.binomial(n, p, size)\n",
    "#n은 나올 수 있는 정수, p는 나올 확률, size = 추출횟수\n",
    "\n",
    "np.random.binomial(1, 0.5, 10)"
   ]
  },
  {
   "cell_type": "code",
   "execution_count": 28,
   "metadata": {},
   "outputs": [
    {
     "data": {
      "text/plain": [
       "0.496"
      ]
     },
     "execution_count": 28,
     "metadata": {},
     "output_type": "execute_result"
    }
   ],
   "source": [
    "sum(np.random.binomial(1,0.5,1000) == 1)/1000"
   ]
  },
  {
   "cell_type": "code",
   "execution_count": 33,
   "metadata": {},
   "outputs": [
    {
     "data": {
      "text/plain": [
       "array([2, 1, 0, 0, 0, 2, 0, 0, 1, 1])"
      ]
     },
     "execution_count": 33,
     "metadata": {},
     "output_type": "execute_result"
    }
   ],
   "source": [
    "#초기하분포 np.random.hypergeometric(ngood, nbad, nsample, size)\n",
    "\n",
    "np.random.hypergeometric(5,20,5,10)"
   ]
  },
  {
   "cell_type": "code",
   "execution_count": 37,
   "metadata": {},
   "outputs": [],
   "source": [
    "#포아송분포 np.random.poisson(lam, size)\n",
    "\n",
    "np_po = np.random.poisson(10, 1000)"
   ]
  },
  {
   "cell_type": "code",
   "execution_count": 41,
   "metadata": {},
   "outputs": [
    {
     "data": {
      "text/plain": [
       "<BarContainer object of 21 artists>"
      ]
     },
     "execution_count": 41,
     "metadata": {},
     "output_type": "execute_result"
    },
    {
     "data": {
      "image/png": "[encoded data removed]",
      "text/plain": [
       "<Figure size 432x288 with 1 Axes>"
      ]
     },
     "metadata": {
      "needs_background": "light"
     },
     "output_type": "display_data"
    }
   ],
   "source": [
    "#포아송분포 barplot으로 확인\n",
    "\n",
    "np_po = np.random.poisson(10, 1000)\n",
    "\n",
    "unique, counts = np.unique(np_po, return_counts = True)\n",
    "\n",
    "import matplotlib.pyplot as plt\n",
    "\n",
    "plt.bar(unique, counts)"
   ]
  },
  {
   "cell_type": "code",
   "execution_count": 48,
   "metadata": {},
   "outputs": [
    {
     "data": {
      "image/png": "[encoded data removed]",
      "text/plain": [
       "<Figure size 432x288 with 1 Axes>"
      ]
     },
     "metadata": {
      "needs_background": "light"
     },
     "output_type": "display_data"
    }
   ],
   "source": [
    "#이산형 균등분포(정수형) np.random.randint(low, high, size)\n",
    "\n",
    "num = np.random.randint(0, 11, 100000)\n",
    "\n",
    "#히스토그램\n",
    "\n",
    "count, bins, ignored = plt.hist(num, bins = 11)"
   ]
  },
  {
   "cell_type": "code",
   "execution_count": 57,
   "metadata": {},
   "outputs": [
    {
     "data": {
      "image/png": "[encoded data removed]",
      "text/plain": [
       "<Figure size 432x288 with 1 Axes>"
      ]
     },
     "metadata": {
      "needs_background": "light"
     },
     "output_type": "display_data"
    }
   ],
   "source": [
    "#연속형확률분포에서 난수 생성\n",
    "#정규분포 np.random.normal(평균, 표준편차, size)\n",
    "\n",
    "rand_norm = np.random.normal(0, 1, 100)\n",
    "\n",
    "count, bins, ignored = plt.hist(rand_norm)"
   ]
  },
  {
   "cell_type": "code",
   "execution_count": 67,
   "metadata": {},
   "outputs": [
    {
     "data": {
      "text/plain": [
       "array([ 5.58699571e-02, -5.04341690e-01,  1.76837121e-01,  3.69622389e-01,\n",
       "        5.41844765e-02, -9.92890727e-02, -1.18877060e+00, -2.73059702e-01,\n",
       "        9.41299374e-01,  1.86842764e+00,  1.90867956e-01, -1.86877014e+00,\n",
       "       -2.23130646e+00, -5.42068669e-02,  1.00632843e-03, -2.03318015e+00,\n",
       "        1.57615378e-01, -3.59884321e-02,  3.65169285e-01, -1.58757705e+00,\n",
       "       -7.53186361e-01, -2.20613385e+00, -3.21555994e-01, -2.85886148e-01,\n",
       "       -1.58142471e+00, -9.91774166e-01, -8.04558445e-01, -1.95844567e-01,\n",
       "        5.85797279e-01,  2.14931808e-01,  9.45779327e-02, -6.17747058e-01,\n",
       "        9.30422975e-01, -1.73933960e+00, -1.93950298e+00,  2.82990192e-01,\n",
       "        3.13287950e-01,  1.53947049e+00, -8.95211201e-01, -1.00718029e+00,\n",
       "        2.15689521e-01,  4.48083878e-01,  6.66489679e-01,  5.62543182e-01,\n",
       "        9.86142069e-01, -5.48327966e-01,  2.00898739e-01, -1.33835964e+00,\n",
       "       -2.14154165e-01, -4.03459049e-01, -8.70890325e-01,  9.32251069e-02,\n",
       "       -1.84934412e+00, -1.64765277e+00, -2.59040984e-01,  5.09363998e-01,\n",
       "       -3.63802991e-01, -5.10066464e-01, -4.31848407e-01, -1.46298583e+00,\n",
       "       -1.49237688e+00,  1.03011256e+00, -1.50441521e+00, -6.61847134e-01,\n",
       "        5.24881767e-01, -1.75705167e-01,  1.17596185e+00, -2.21842204e+00,\n",
       "        1.47106882e+00, -7.67556113e-01, -6.33539799e-01, -3.37180061e-01,\n",
       "       -1.94318324e-01,  1.74068766e-01,  2.87343916e+00,  3.93818296e-01,\n",
       "        1.14937503e+00,  2.65127374e+00,  1.37822494e+00,  4.47374502e-01,\n",
       "        2.06797844e+00,  1.41069264e-01, -8.27619639e-01, -1.47531420e+00,\n",
       "       -1.43653800e+00, -6.76760872e-01,  9.45910578e-01,  1.19029711e+00,\n",
       "       -1.25460830e+00, -1.04844435e+00,  3.99933901e-02, -3.13425703e-01,\n",
       "        8.30896856e-01, -1.30280301e+00, -1.52418620e-01,  1.68186558e-02,\n",
       "        1.77620759e+00, -6.62354304e-01,  7.94660321e-01, -1.51682466e+00,\n",
       "       -9.86404603e-01, -1.67030485e+00,  3.11531705e-01, -7.21180733e-01,\n",
       "        1.19234410e-01, -1.36917456e+00,  3.21749904e-01,  6.74559810e-01,\n",
       "       -1.48837159e+00,  1.64204661e+00, -1.68562978e-01,  1.47189413e+00,\n",
       "       -9.83711006e-01,  8.49996436e-01,  1.65643829e-01, -4.13646733e-01,\n",
       "        9.08753557e-01,  1.46540314e+00, -2.09403076e-01,  9.05925180e-02,\n",
       "        8.19526735e-01, -1.45931112e+00, -3.11407428e-01, -1.04768462e+00,\n",
       "        7.95351899e-01,  1.20839296e+00, -1.02492547e+00,  2.24062920e+00,\n",
       "       -1.16075076e+00, -9.23314679e-02,  2.94391256e-01,  3.58668570e-01,\n",
       "        9.19227313e-01,  1.38712382e+00,  5.46981884e-01,  1.91501873e-01,\n",
       "       -1.07960039e+00, -3.13624513e-01, -1.70859417e+00, -6.24007713e-01,\n",
       "       -2.68539406e-01, -1.68727907e+00, -1.70847173e+00,  3.90013205e-01,\n",
       "       -4.70858066e-01,  9.95104959e-01, -1.52758960e+00, -1.29106257e+00,\n",
       "       -4.70726294e-02, -8.63857665e-01, -7.79403124e-01, -3.35173880e-01,\n",
       "        9.44741858e-01, -3.29615600e-01, -2.54762208e-01,  5.35989120e-01,\n",
       "       -6.74021932e-01,  5.53782343e-01,  1.24889422e+00,  1.67962576e-01,\n",
       "        2.35822777e+00, -4.49937002e-01, -2.58281280e+00,  1.49473020e-02,\n",
       "       -8.26508165e-01, -1.11643981e+00,  1.21599232e-01,  2.25209863e-01,\n",
       "        1.90076362e-01, -7.93178972e-01,  8.35464799e-01,  1.26636748e+00,\n",
       "        6.25036221e-01,  8.69179073e-01,  2.97631471e+00, -2.19942543e+00,\n",
       "        1.89740735e+00,  1.31419285e+00,  1.13947309e+00,  9.63738555e-03,\n",
       "        1.69683670e+00,  6.81195643e-01, -5.28397749e-01, -1.07258808e+00,\n",
       "       -1.69557821e+00,  7.25786021e-01, -1.53750902e+00,  6.57309495e-01,\n",
       "       -7.98386048e-01, -8.99268148e-01, -1.27159830e+00, -3.83867232e-01,\n",
       "       -4.17912626e-01,  1.25755338e+00, -4.28062201e-01,  2.38329560e-02,\n",
       "        8.50858962e-01,  2.17862836e-01, -8.56369533e-01,  1.01017180e+00,\n",
       "        1.06661992e+00,  1.44509838e+00, -3.11647504e-01,  6.34687106e-01,\n",
       "        1.15321035e+00,  4.89758392e-01, -1.09690965e+00, -8.98698996e-01,\n",
       "       -1.22447318e+00,  9.99288318e-01,  3.78178824e-02,  1.29672616e+00,\n",
       "       -6.21828062e-01, -1.90027485e+00, -1.29655693e+00,  2.29739481e+00,\n",
       "       -3.14721297e-02, -7.14745207e-01, -9.39227667e-02, -9.00758504e-01,\n",
       "        7.80096002e-01, -8.96946459e-01, -3.96594305e-01, -6.97415489e-01,\n",
       "        6.81844608e-01, -1.01518863e+00, -4.01487637e-01, -7.44542156e-01,\n",
       "       -2.34356123e-01,  3.55406500e-01,  1.04415381e+00, -1.08682204e+00,\n",
       "        1.54429827e+00,  1.93840193e+00, -8.40111196e-02,  2.86970053e-01,\n",
       "        1.98219623e-01,  8.02487800e-01,  9.66737690e-01, -1.83801851e+00,\n",
       "       -1.54285414e+00,  1.93888807e+00,  6.92280817e-01,  1.57120074e-01,\n",
       "        2.81231853e-01,  6.59784683e-01,  5.81325777e-01,  5.24880066e-01,\n",
       "       -7.71887794e-01, -2.52299845e+00,  5.12775272e-01, -1.51644705e+00,\n",
       "        1.87536336e+00, -6.38418902e-01,  4.01377886e-01,  8.38560184e-01,\n",
       "        3.94113912e-01,  1.60711912e+00, -2.05357613e+00,  1.13490626e+00,\n",
       "        2.00934812e-03,  8.85335562e-01, -1.14043780e-01,  1.75142524e+00,\n",
       "        3.59430147e-01, -2.40689101e+00, -5.72206055e-01, -5.19177284e-01,\n",
       "        5.12831648e-01, -3.48818068e-01, -4.20063480e-01, -2.83684956e-01,\n",
       "        1.49841908e+00,  4.81377816e-01, -1.00044173e+00, -1.98038353e+00,\n",
       "       -1.55920767e-01, -9.83547491e-01, -4.37634089e-01, -2.02261352e+00,\n",
       "        2.23821321e+00, -1.12317072e+00,  1.73161168e+00, -2.84064716e-01,\n",
       "        1.89891078e+00, -4.86582870e-01, -1.21216821e+00, -4.64469617e-01,\n",
       "        3.70576964e-01,  3.42452268e-01, -1.14759925e+00,  3.19021122e-01,\n",
       "       -1.46635439e+00,  1.55417466e+00,  1.36062946e+00, -6.23958079e-01,\n",
       "       -7.92669642e-01, -1.46583147e+00, -5.10655775e-01, -4.79348642e-01,\n",
       "        1.76423302e+00, -8.81049901e-01,  1.53980491e+00,  4.81078287e-01,\n",
       "       -1.42083649e+00,  8.44221031e-01,  8.33483668e-01,  6.05525654e-01,\n",
       "        2.35675512e-02,  4.14742216e-01,  1.00568597e+00, -7.30350233e-01,\n",
       "       -4.49914904e-02, -3.22267001e+00, -1.04016342e+00, -8.52014501e-01,\n",
       "       -9.56548614e-01, -7.94393490e-01,  9.04976594e-01, -9.35583760e-01,\n",
       "        1.42099102e+00,  3.62657139e-01,  7.99632528e-02, -5.28670325e-01,\n",
       "        1.70914754e-01, -5.31113113e-02,  1.60965795e+00, -1.34458068e+00,\n",
       "       -1.21031917e+00, -2.81137335e-03,  7.05532409e-01,  1.38239455e+00,\n",
       "       -1.66576942e-01,  1.57495590e-01,  9.18747681e-01, -6.61466911e-01,\n",
       "       -1.34487479e+00, -1.02763865e+00,  3.76676936e-02,  5.01639572e-01,\n",
       "       -4.73095130e-01, -2.08119783e+00,  1.17801153e+00,  8.54081283e-01,\n",
       "        7.55189079e-01,  1.75284087e-01, -1.10311558e+00, -4.81725203e-01,\n",
       "       -7.41652343e-01, -1.84283105e+00, -4.13234479e-01, -4.27388133e-01,\n",
       "        3.43484141e-01,  4.22183921e-01, -1.24684589e+00,  6.12513952e-01,\n",
       "       -2.60147590e+00,  1.68194762e+00,  1.06737363e+00,  9.96299868e-01,\n",
       "        2.68515013e-01,  1.08425108e+00,  3.73748631e-01, -4.76038315e-01,\n",
       "        1.27113789e+00, -6.69239906e-01,  1.18200293e+00, -3.63030853e-01,\n",
       "       -2.53162172e+00, -1.76390353e+00, -1.25755923e+00, -9.87632504e-01,\n",
       "        2.79473611e-01, -1.72869721e+00, -1.57321103e+00,  7.56946337e-01,\n",
       "       -5.76559778e-03,  1.50449118e+00,  1.78833195e+00,  5.03360787e-02,\n",
       "        1.95465164e+00,  1.77764369e+00, -1.07846633e+00,  4.14246981e-02,\n",
       "       -3.60362056e-01,  4.97469748e-01, -1.50339018e+00, -1.37145107e+00,\n",
       "       -2.01373240e+00,  1.63569926e+00,  1.42434103e+00, -1.58077770e-01,\n",
       "       -1.04638279e+00, -3.36178790e-01, -1.36366653e+00,  3.95148240e-01,\n",
       "        7.25843313e-01, -1.70860004e+00,  6.97191431e-01,  7.35250782e-01,\n",
       "       -7.18636408e-01,  7.06279335e-01, -2.82441547e-01, -6.90837024e-01,\n",
       "        1.50932950e+00, -1.05012972e+00,  4.42959143e-01,  2.61864764e+00,\n",
       "       -1.49154557e-01, -1.21109042e+00, -7.46025330e-01,  9.02152242e-02,\n",
       "        6.18075168e-01,  1.27506302e+00, -4.23614315e-01,  1.47026753e-01,\n",
       "        6.88626927e-01,  1.02922716e+00, -8.10840068e-01, -5.04494633e-01,\n",
       "        6.52532758e-01,  2.78644811e+00, -2.14091411e-01, -7.67617428e-01,\n",
       "       -5.53356299e-01,  1.27963544e+00,  4.11411875e-02, -3.03280213e-01,\n",
       "       -1.03060951e+00, -5.38570681e-02,  1.19209375e+00,  6.50143330e-01,\n",
       "       -5.97480381e-01,  1.48806278e+00, -1.58859427e+00,  7.88089954e-01,\n",
       "       -9.60900782e-01, -1.64519903e+00, -3.82970740e-01,  1.33107863e+00,\n",
       "       -8.16333539e-01,  9.55234895e-01, -1.91417541e+00, -1.34358583e-01,\n",
       "       -1.57279471e+00,  7.72050547e-01,  8.80124824e-01,  7.06857681e-02,\n",
       "        5.25262538e-02,  3.37520991e-01,  2.63351848e-01, -5.68498358e-01,\n",
       "        7.44671279e-02,  1.06056721e+00,  3.66244072e-01,  2.31688320e-01,\n",
       "       -1.20022128e+00, -4.38508096e-01, -1.27619730e+00, -2.78063227e+00,\n",
       "        1.08174627e+00, -1.42032336e-01, -1.32374735e+00,  5.49172612e-01,\n",
       "       -5.00459965e-01, -7.47955369e-01,  2.13253857e-01, -3.30658381e-01,\n",
       "       -9.71357531e-01, -3.52870472e-01, -1.39431977e+00,  1.22960684e+00,\n",
       "        1.59173282e+00,  9.14214585e-02,  1.51139336e+00, -1.82097843e-01,\n",
       "       -1.19795417e+00, -8.99971308e-01,  4.48880460e-01, -4.63309102e-01,\n",
       "       -5.33413101e-01, -1.35404308e+00,  1.21758638e+00,  4.26690291e-01,\n",
       "        5.23975256e-01, -1.03740990e+00, -1.00904579e+00, -2.79795527e-01,\n",
       "       -1.20222912e+00,  2.38342607e-02, -1.74461172e+00,  1.64499445e+00,\n",
       "       -1.47835796e-01,  1.82457908e+00,  7.03944541e-02,  4.99568710e-01,\n",
       "       -2.15349744e-01, -2.30146102e-01,  4.78793541e-01,  7.37126328e-01,\n",
       "       -3.27873803e-01,  7.99079508e-01, -5.62306963e-02,  1.46050705e+00,\n",
       "       -8.70966260e-01,  9.50216280e-01,  3.17886105e-01, -5.76168308e-01,\n",
       "        4.50133452e-01, -1.33982926e+00,  2.17812229e-02,  2.12213046e+00,\n",
       "       -1.61736082e+00,  1.35453254e-01, -5.70679477e-01,  5.47796855e-01,\n",
       "        1.32827151e+00,  7.99766562e-01, -3.95398052e-01, -5.83608877e-01,\n",
       "       -4.99195832e-01, -4.33628948e-01,  3.99299170e-01, -2.68289758e-01,\n",
       "       -5.22478929e-01,  8.17029711e-02, -1.28115150e-01, -8.08771544e-01,\n",
       "       -7.12529038e-01, -5.89612841e-02,  4.89773969e-01, -1.25699335e+00,\n",
       "       -9.18821411e-02, -3.03733303e-01, -1.01038490e+00, -5.20333450e-01,\n",
       "       -2.92046994e-01, -1.70153608e+00, -8.50868114e-02, -3.56920521e-01,\n",
       "        6.85087314e-01, -4.37216640e-01,  2.19115468e+00,  1.31141369e+00,\n",
       "       -7.53642678e-01,  2.13716602e+00, -2.92173577e-01, -4.62369306e-01,\n",
       "       -1.10883113e+00, -4.10087238e-01, -7.01603882e-02, -5.61908908e-01,\n",
       "       -3.36561921e-01,  8.65362734e-01,  7.23718236e-01, -5.14627219e-01,\n",
       "        5.16513541e-01,  3.22635902e-01,  1.19237293e-02, -1.30325820e+00,\n",
       "        8.97518188e-02,  5.72680031e-01,  4.31338235e-01,  1.05184900e+00,\n",
       "       -1.98494774e-01, -1.97428300e-01, -2.24289969e+00, -1.99506477e+00,\n",
       "        5.21477564e-01,  9.19290710e-01,  1.39004203e+00,  1.26490671e+00,\n",
       "        6.88917492e-01, -9.64931631e-01, -8.96160601e-01,  7.15426405e-01,\n",
       "       -1.03121713e+00,  9.40387940e-01,  1.68562285e-01,  1.39876595e-01,\n",
       "        2.24683410e-02, -5.57393688e-01,  3.95017156e-01,  6.11967989e-01,\n",
       "        3.92484094e-01,  1.11935062e+00,  3.34746743e-01, -2.32314863e-01,\n",
       "        1.04105211e+00,  1.34379958e+00, -4.17043422e-01,  4.63150641e-01,\n",
       "       -9.21390391e-02, -7.70288887e-02, -5.78649256e-01,  2.53491425e-02,\n",
       "        4.00934822e-01,  4.51234694e-01,  9.01100620e-01, -6.41381026e-03,\n",
       "        1.54124566e-01,  1.31231332e+00,  2.99028231e-01, -5.21587255e-01,\n",
       "       -1.97919575e-01,  2.68490463e+00,  9.35488651e-01, -6.37081470e-01,\n",
       "        4.20812677e-01, -1.31937423e+00, -9.21792534e-01,  3.28640929e-01,\n",
       "        1.25728228e-01,  1.83976940e+00, -9.73376101e-01,  2.53037828e-01,\n",
       "       -4.47169373e-02,  3.22663429e-01, -4.81797012e-01,  1.24154342e-01,\n",
       "       -6.54490784e-01, -6.74328995e-01,  3.13775819e-01,  1.56497765e+00,\n",
       "        1.22971733e+00, -1.81713836e+00, -9.36733686e-01, -7.48611098e-01,\n",
       "       -5.87875763e-01,  9.38160144e-02, -3.00255299e-01,  6.54627389e-01,\n",
       "       -4.33007940e-01, -5.88572659e-01,  3.03838180e-01, -3.76876244e-01,\n",
       "       -8.97498598e-01, -3.74272306e-01, -8.92360511e-01, -2.27776961e-01,\n",
       "        8.92156926e-01, -7.82190395e-01, -1.20633922e+00, -2.35453075e+00,\n",
       "        9.65703595e-01,  2.29552375e+00,  7.12706765e-01,  1.76399067e-01,\n",
       "        5.04816373e-01,  8.89022762e-01, -5.91834692e-01,  9.27589256e-02,\n",
       "        8.09143201e-02, -4.78005832e-01,  3.56863954e-01,  5.37161991e-01,\n",
       "       -6.46146732e-01, -5.91179852e-01, -5.96168961e-02,  9.54291157e-02,\n",
       "        5.54728517e-01, -6.17798651e-01,  1.97478841e+00,  1.07353768e+00,\n",
       "       -2.09370644e+00, -4.61800629e-01, -6.08653618e-01,  1.11447132e+00,\n",
       "       -1.37071234e+00, -8.28895693e-01, -2.12940298e+00, -8.55366770e-02,\n",
       "        1.77597928e-01, -6.31449991e-01,  2.47352299e+00,  2.40834702e-01,\n",
       "        4.28689351e-01, -1.27063552e+00,  1.64373346e-01,  1.03789828e+00,\n",
       "       -1.36095743e-01,  2.99077998e-01, -3.41446359e-01, -8.00866641e-02,\n",
       "       -7.76538741e-01, -1.58431901e+00,  1.02717353e+00,  1.18856181e-01,\n",
       "        1.16520549e+00,  3.27826712e-01,  3.68268519e-02,  1.86470113e+00,\n",
       "        1.61281992e+00, -3.96503704e-01, -2.79178058e-01,  4.75688376e-01,\n",
       "        9.51492308e-02,  8.79397658e-01,  5.32463902e-01, -7.90479560e-02,\n",
       "       -4.15090816e-01, -2.32216144e+00,  1.39766049e+00,  2.41614441e-01,\n",
       "       -1.80028180e-01, -9.10360949e-01, -8.95019497e-01,  1.66400047e+00,\n",
       "        9.38819765e-01, -6.64550213e-03, -8.25134802e-01, -2.32786385e+00,\n",
       "        1.09451189e+00,  1.54361999e+00, -4.56895299e-01,  1.92360019e+00,\n",
       "       -2.05809524e+00,  9.94557306e-01,  3.93138163e-01, -2.23441172e+00,\n",
       "        3.16378396e-01, -4.71138417e-01,  1.26693220e-01, -2.77356669e+00,\n",
       "        7.25477714e-01,  1.45613418e+00,  9.89472517e-01,  2.95683767e-01,\n",
       "       -4.58944218e-02,  1.55539276e+00,  4.24914308e-01, -9.28326299e-01,\n",
       "       -1.43336030e+00,  1.06410103e+00, -5.31441532e-01,  3.01125514e-02,\n",
       "       -1.38107092e+00, -6.75733959e-02, -1.78628500e-01, -1.65460605e-01,\n",
       "        2.08153825e-01,  5.80955260e-01,  7.59338549e-01,  8.41220826e-01,\n",
       "       -5.86386354e-01, -1.61580784e+00, -2.52535432e+00,  3.02464041e-01,\n",
       "        1.40264161e+00,  6.35484959e-01,  2.56037348e-01,  6.71124902e-01,\n",
       "        9.06574076e-01, -4.76341388e-01, -7.10534990e-01, -4.82181777e-01,\n",
       "       -4.72851354e-01,  1.85452560e-01,  1.04024275e+00, -2.89084097e-01,\n",
       "       -6.52081907e-01,  1.62791181e-01, -8.72785320e-01,  5.70598510e-01,\n",
       "       -5.77769488e-01,  4.31810040e-01,  1.02843704e+00,  5.19745573e-03,\n",
       "       -1.48180221e+00, -6.26317622e-01,  4.57445404e-01, -5.02326231e-01,\n",
       "        1.47153681e-01,  2.60546975e-01,  4.29449745e-02, -7.98237729e-01,\n",
       "        3.96008399e-01,  1.09623111e+00, -8.57796249e-01, -1.45297342e+00,\n",
       "        4.26735128e-01, -2.85970810e-02,  1.52771334e-01,  3.50042799e-01,\n",
       "       -8.25441507e-01, -8.53846940e-01, -5.99510583e-02,  1.15322500e+00,\n",
       "        1.05350606e+00,  4.11854488e-01,  8.69612282e-02,  5.04439183e-01,\n",
       "       -1.34602545e+00,  6.02440617e-02, -1.15509377e+00,  1.63171850e-03,\n",
       "        3.82529917e-01,  1.47565914e+00, -8.69658791e-01,  1.01171819e+00,\n",
       "        7.85573719e-01, -1.18286491e+00,  1.50566449e+00, -5.02001983e-01,\n",
       "       -1.21329890e+00, -1.97441267e+00,  4.91943506e-01,  2.50689275e-01,\n",
       "       -2.14208450e-01,  7.48028802e-01,  1.57789803e+00, -1.03357682e-02,\n",
       "        1.40406556e+00,  9.45524659e-01, -1.19278672e+00, -1.16825655e+00,\n",
       "        1.34436175e-01, -7.02550228e-02, -7.04604597e-01, -6.52642178e-01,\n",
       "       -6.05127754e-01,  6.64539256e-01,  1.60045213e+00,  3.88175489e-01,\n",
       "        1.16674639e-01, -1.33276047e+00, -5.06803086e-01,  1.03839534e+00,\n",
       "       -6.07014559e-01, -1.46438918e+00, -6.51031036e-01,  1.82122587e-01,\n",
       "       -4.82477692e-02, -1.38659589e+00, -5.16620206e-01,  3.79295736e-01,\n",
       "        9.55781333e-01,  1.48033253e+00, -6.37467690e-01, -7.94852670e-01,\n",
       "        1.49517129e+00,  4.01065171e-01, -1.53380257e+00,  3.99809348e-01,\n",
       "       -2.26478574e+00,  8.40124812e-01, -1.06556125e+00, -8.93492944e-01,\n",
       "        2.74654113e-01,  9.88611834e-01,  6.70757344e-01,  9.09084538e-01,\n",
       "        8.43840416e-01, -9.05892723e-01,  1.38797526e+00, -1.89665649e-01,\n",
       "        1.17351711e+00,  2.57146735e-01, -1.47502558e+00,  2.97782726e-01,\n",
       "        3.28094880e-02,  3.48221410e-01, -6.02511916e-01,  1.56825718e+00,\n",
       "        1.95240263e+00,  6.83226521e-01, -1.24553171e+00, -2.93263037e-01,\n",
       "       -2.60824150e-01, -2.85921058e-01,  5.08397581e-01, -1.11769062e+00,\n",
       "        1.67920445e+00, -1.14246961e+00,  5.32968745e-01,  2.24317395e-01,\n",
       "        3.99221094e-01,  5.14312421e-01, -1.67822237e+00,  5.52664802e-01,\n",
       "       -4.53948642e-02,  2.26432473e+00,  1.20396668e+00, -9.54705099e-01,\n",
       "        1.28304339e-01, -1.49124094e+00, -3.07737772e-01,  4.11124459e-02,\n",
       "        7.30324416e-01,  5.81500335e-01, -2.32365079e-01,  1.17918566e+00,\n",
       "       -2.19053571e-01, -1.00464645e+00, -9.68454318e-02,  1.01252854e-01,\n",
       "       -2.40983263e+00,  3.44441947e-02, -9.19830700e-01,  1.08555195e+00,\n",
       "       -5.00260875e-01, -1.33353391e+00, -1.07893142e+00,  1.00864085e+00,\n",
       "        1.05922308e-01, -8.06331767e-01, -6.68890723e-02, -2.53784863e-01,\n",
       "        1.22770461e+00,  1.09550642e+00,  3.30728953e-01,  5.97868894e-01,\n",
       "       -1.49306240e+00,  8.95208359e-02,  1.11920097e-01,  1.23136632e+00,\n",
       "       -2.16988361e+00, -1.33383447e-01,  2.38436637e-01, -1.23943756e+00,\n",
       "       -1.16838059e+00, -1.87592545e-01, -2.97524306e+00,  3.37972346e-01,\n",
       "        2.04516019e+00, -4.51467991e-01, -7.91493268e-01,  5.36673600e-02,\n",
       "        2.73753150e+00, -1.56181584e+00, -3.36948362e-01,  1.13342490e+00,\n",
       "        7.67546073e-01, -1.47111125e+00, -5.44790837e-01,  4.58010521e-01,\n",
       "        5.28492990e-01,  1.90502343e-01, -8.77206129e-02, -3.06676107e-01,\n",
       "        8.42522386e-01,  5.90074611e-02,  4.20975534e-02, -7.60168642e-02,\n",
       "        1.00441697e+00, -3.63380456e-01, -1.51987723e-01, -1.35794964e+00,\n",
       "       -4.94401185e-01, -8.95161538e-01, -1.89888261e+00, -2.70927748e-01,\n",
       "        1.14242694e+00,  1.29503252e+00,  1.03803427e+00, -5.24509409e-01,\n",
       "        1.36535542e+00,  1.20958633e+00,  2.73943046e-01, -4.14478470e-01,\n",
       "       -2.77271478e-01,  6.76245324e-01, -1.04646585e+00,  3.76684558e-01,\n",
       "       -1.10690262e+00, -1.46991953e+00,  1.47609513e+00,  1.57596976e-01,\n",
       "       -8.93236483e-01,  7.63533414e-01, -1.61764279e+00, -1.21572525e+00,\n",
       "       -1.25913801e-01, -9.46561604e-02,  1.26124967e+00,  6.24938455e-01,\n",
       "        1.80920794e+00,  2.99180760e+00, -3.78463404e-01,  2.95634287e-01,\n",
       "        9.43535227e-01, -8.00864192e-01,  3.39546922e-01,  7.14718569e-01,\n",
       "        2.54722055e+00, -7.92624097e-02,  1.30237981e+00,  2.22750382e-01,\n",
       "        1.22446550e-01, -5.85428847e-01,  9.13404587e-01,  4.08996071e-01,\n",
       "       -7.95073222e-01,  3.38101345e-01,  3.98953941e-01, -2.84175488e-01,\n",
       "        1.95242620e+00,  1.54529002e+00, -7.66669858e-01, -1.06535791e+00])"
      ]
     },
     "execution_count": 67,
     "metadata": {},
     "output_type": "execute_result"
    }
   ],
   "source": [
    "#t-분포 난수생성 np.random.standard_t(df, size)\n",
    "\n",
    "rand_t = np.random.standard_t(30, 1000)"
   ]
  },
  {
   "cell_type": "code",
   "execution_count": 68,
   "metadata": {},
   "outputs": [
    {
     "data": {
      "image/png": "[encoded data removed]",
      "text/plain": [
       "<Figure size 432x288 with 1 Axes>"
      ]
     },
     "metadata": {
      "needs_background": "light"
     },
     "output_type": "display_data"
    }
   ],
   "source": [
    "#t-분포 히스토그램\n",
    "rand_t = np.random.standard_t(30, 1000)\n",
    "\n",
    "count, bins, ignored = plt.hist(rand_t, bins = 20)"
   ]
  },
  {
   "cell_type": "code",
   "execution_count": 73,
   "metadata": {},
   "outputs": [
    {
     "data": {
      "image/png": "[encoded data removed]",
      "text/plain": [
       "<Figure size 432x288 with 1 Axes>"
      ]
     },
     "metadata": {
      "needs_background": "light"
     },
     "output_type": "display_data"
    }
   ],
   "source": [
    "#균등분포 np.random.uniform(low, high, size)\n",
    "\n",
    "rand_uni = np.random.uniform(0, 1, 1000)\n",
    "\n",
    "count, bins, ignored = plt.hist(rand_uni, bins = 20)"
   ]
  },
  {
   "cell_type": "code",
   "execution_count": 75,
   "metadata": {},
   "outputs": [
    {
     "data": {
      "image/png": "[encoded data removed]",
      "text/plain": [
       "<Figure size 432x288 with 1 Axes>"
      ]
     },
     "metadata": {
      "needs_background": "light"
     },
     "output_type": "display_data"
    }
   ],
   "source": [
    "#F-분포 np.random.f(dfnum, dfden, size)\n",
    "\n",
    "rand_f = np.random.f(5, 10, 100)\n",
    "\n",
    "count, bins, ignored = plt.hist(rand_f)"
   ]
  },
  {
   "cell_type": "code",
   "execution_count": 81,
   "metadata": {},
   "outputs": [
    {
     "data": {
      "image/png": "[encoded data removed]",
      "text/plain": [
       "<Figure size 432x288 with 1 Axes>"
      ]
     },
     "metadata": {
      "needs_background": "light"
     },
     "output_type": "display_data"
    }
   ],
   "source": [
    "#카이제곱분포 np.random.chisquare(df, size)\n",
    "\n",
    "rand_chi = np.random.chisquare(1000, 1000)\n",
    "\n",
    "count, bins, ignored = plt.hist(rand_chi)"
   ]
  }
 ],
 "metadata": {
  "kernelspec": {
   "display_name": "Python 3",
   "language": "python",
   "name": "python3"
  },
  "language_info": {
   "codemirror_mode": {
    "name": "ipython",
    "version": 3
   },
   "file_extension": ".py",
   "mimetype": "text/x-python",
   "name": "python",
   "nbconvert_exporter": "python",
   "pygments_lexer": "ipython3",
   "version": "3.8.5"
  }
 },
 "nbformat": 4,
 "nbformat_minor": 4
}
