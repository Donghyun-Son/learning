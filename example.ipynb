{
 "cells": [
  {
   "cell_type": "code",
   "execution_count": 4,
   "metadata": {},
   "outputs": [
     "name": "stdout",
     "output_type": "stream",
     "text": [
      "영어점수?70\n",
      "수학점수?70\n",
      "합격\n"
     ]
    }
   ],
   "source": [
    "#if ~ elif ~ else 조건문 예제\n",
    "#학생수준평가 합격여부 출력 프로그램\n",
    "#조건1. 영어점수와 수학점수를 입력 받을 것\n",
    "#조건2. 영어점수와 수학점수의 합이 110점이 넘으면 '합격' 출력\n",
    "#조건3. 두 과목 점수의 합이 110미만이면 '불합격:총점미달' 출력\n",
    "#조건3. 각 과목의 점수가 40점 미만이면 '불합격:해당과목' 출력\n",
    "\n",
    "eng = int(input(\"영어점수?\"))\n",
    "math = int(input(\"수학점수?\"))\n",
    "total = eng + math\n",
    "if total < 110:\n",
    "    print('불합격:총점미달')\n",
    "elif eng >= 40:\n",
    "    if math >= 40:\n",
    "          print('합격')\n",
    "    else:\n",
    "          print('불합격:수학미달')\n",
    "else:\n",
    "    print('불합격:영어미달')"
   ]
  }
 ],
 "metadata": {
  "kernelspec": {
   "display_name": "Python 3",
   "language": "python",
   "name": "python3"
  },
  "language_info": {
   "codemirror_mode": {
    "name": "ipython",
    "version": 3
   },
   "file_extension": ".py",
   "mimetype": "text/x-python",
   "name": "python",
   "nbconvert_exporter": "python",
   "pygments_lexer": "ipython3",
   "version": "3.8.5"
  }
 },
 "nbformat": 4,
 "nbformat_minor": 4
}
