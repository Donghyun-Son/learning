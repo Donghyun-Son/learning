{
 "cells": [
  {
   "cell_type": "code",
   "execution_count": 4,
   "metadata": {},
   "outputs": [
    {
     "name": "stdout",
     "output_type": "stream",
     "text": [
      "영어점수?70\n",
      "수학점수?70\n",
      "합격\n"
     ]
    }
   ],
   "source": [
    "#if ~ elif ~ else 조건문 예제\n",
    "#학생수준평가 합격여부 출력 프로그램\n",
    "#조건1. 영어점수와 수학점수를 입력 받을 것\n",
    "#조건2. 영어점수와 수학점수의 합이 110점이 넘으면 '합격' 출력\n",
    "#조건3. 두 과목 점수의 합이 110미만이면 '불합격:총점미달' 출력\n",
    "#조건4. 각 과목의 점수가 40점 미만이면 '불합격:해당과목' 출력\n",
    "\n",
    "eng = int(input(\"영어점수?\"))\n",
    "math = int(input(\"수학점수?\"))\n",
    "total = eng + math\n",
    "if total < 110:\n",
    "    print('불합격:총점미달')\n",
    "elif eng >= 40:\n",
    "    if math >= 40:\n",
    "          print('합격')\n",
    "    else:\n",
    "          print('불합격:수학미달')\n",
    "else:\n",
    "    print('불합격:영어미달')"
   ]
  },
  {
   "cell_type": "code",
   "execution_count": 10,
   "metadata": {
    "scrolled": true
   },
   "outputs": [
    {
     "name": "stdout",
     "output_type": "stream",
     "text": [
      "나이? 19\n",
      "남자 or 여자?남자\n",
      "2배\n"
     ]
    }
   ],
   "source": [
    "#백화점 적립금 예제\n",
    "#조건1. 고객의 성별, 나이를 입력받을 것\n",
    "#조건2. 남자는 나이에 상관없이 적립금 '2배'출력\n",
    "#조건3. 여자는 20대 미만 '1.5배', 20대 '2배', 30대 이상 '3배' 출력\n",
    "\n",
    "age = int(input(\"나이? \"))\n",
    "gender = input(\"남자 or 여자?\")\n",
    "\n",
    "if gender == '여자':\n",
    "    if age < 20:\n",
    "        print('1.5배')\n",
    "    elif 20<=age<30:\n",
    "        print('2배')\n",
    "    else:\n",
    "        print('3배')\n",
    "else:\n",
    "    print('2배')\n",
    "    "
   ]
  },
  {
   "cell_type": "code",
   "execution_count": 20,
   "metadata": {},
   "outputs": [
    {
     "name": "stdout",
     "output_type": "stream",
     "text": [
      "num1? 3\n",
      "num2? 3\n",
      "num3? 3\n",
      "3\n"
     ]
    }
   ],
   "source": [
    "#가장 큰 정수 출력 예제\n",
    "#조건1. 정수 3번 입력\n",
    "#조건2. 그 중 가장 큰 정수 출력\n",
    "\n",
    "n1 = int(input(\"num1? \"))\n",
    "n2 = int(input(\"num2? \"))\n",
    "n3 = int(input(\"num3? \"))\n",
    "\n",
    "if n1 < n2:\n",
    "    if n2 >= n3:\n",
    "        print(n2)\n",
    "    else:\n",
    "        print(n3)\n",
    "else:\n",
    "    if n1 > n3:\n",
    "        print(n1)\n",
    "    else:\n",
    "        print(n3)\n"
   ]
  },
  {
   "cell_type": "code",
   "execution_count": 25,
   "metadata": {},
   "outputs": [
    {
     "name": "stdout",
     "output_type": "stream",
     "text": [
      "num1? 1\n",
      "num2? 2\n",
      "num3? 3\n"
     ]
    },
    {
     "data": {
      "text/plain": [
       "(3, 1)"
      ]
     },
     "execution_count": 25,
     "metadata": {},
     "output_type": "execute_result"
    }
   ],
   "source": [
    "n1 = int(input(\"num1? \"))\n",
    "n2 = int(input(\"num2? \"))\n",
    "n3 = int(input(\"num3? \"))\n",
    "\n",
    "max(n1,n2,n3), min(n1,n2,n3)"
   ]
  }
 ],
 "metadata": {
  "kernelspec": {
   "display_name": "Python 3",
   "language": "python",
   "name": "python3"
  },
  "language_info": {
   "codemirror_mode": {
    "name": "ipython",
    "version": 3
   },
   "file_extension": ".py",
   "mimetype": "text/x-python",
   "name": "python",
   "nbconvert_exporter": "python",
   "pygments_lexer": "ipython3",
   "version": "3.8.5"
  }
 },
 "nbformat": 4,
 "nbformat_minor": 4
}
